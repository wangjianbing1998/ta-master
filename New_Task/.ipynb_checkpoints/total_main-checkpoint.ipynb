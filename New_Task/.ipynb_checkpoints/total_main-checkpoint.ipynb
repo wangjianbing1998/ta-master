{
 "cells": [
  {
   "cell_type": "code",
   "execution_count": 41,
   "metadata": {},
   "outputs": [
    {
     "name": "stderr",
     "output_type": "stream",
     "text": [
      "WARNING: better_exceptions will only inspect code from the command line\n",
      "         when using: `python -m better_exceptions'. Otherwise, only code\n",
      "         loaded from files will be inspected!\n"
     ]
    }
   ],
   "source": [
    "import cycle_transformer\n",
    "import imp\n",
    "imp.reload(cycle_transformer)\n",
    "import pandas as pd"
   ]
  },
  {
   "cell_type": "code",
   "execution_count": 42,
   "metadata": {},
   "outputs": [],
   "source": [
    "cycle_transformer.main('BigData', result_dir='processed_transformer_dir', num_per_xlsx=2)"
   ]
  },
  {
   "cell_type": "code",
   "execution_count": 44,
   "metadata": {},
   "outputs": [
    {
     "data": {
      "text/html": [
       "<div>\n",
       "<style scoped>\n",
       "    .dataframe tbody tr th:only-of-type {\n",
       "        vertical-align: middle;\n",
       "    }\n",
       "\n",
       "    .dataframe tbody tr th {\n",
       "        vertical-align: top;\n",
       "    }\n",
       "\n",
       "    .dataframe thead th {\n",
       "        text-align: right;\n",
       "    }\n",
       "</style>\n",
       "<table border=\"1\" class=\"dataframe\">\n",
       "  <thead>\n",
       "    <tr style=\"text-align: right;\">\n",
       "      <th></th>\n",
       "      <th>code</th>\n",
       "      <th>date</th>\n",
       "      <th>open</th>\n",
       "      <th>high</th>\n",
       "      <th>low</th>\n",
       "      <th>close</th>\n",
       "      <th>volume</th>\n",
       "    </tr>\n",
       "  </thead>\n",
       "  <tbody>\n",
       "    <tr>\n",
       "      <td>0</td>\n",
       "      <td>AAPL_2020_2020</td>\n",
       "      <td>2020-01-02 04:00:00</td>\n",
       "      <td>295.05</td>\n",
       "      <td>295.75</td>\n",
       "      <td>295.05</td>\n",
       "      <td>295.73</td>\n",
       "      <td>26138</td>\n",
       "    </tr>\n",
       "    <tr>\n",
       "      <td>1</td>\n",
       "      <td>AAPL_2020_2020</td>\n",
       "      <td>2020-01-02 05:00:00</td>\n",
       "      <td>295.75</td>\n",
       "      <td>296.05</td>\n",
       "      <td>295.75</td>\n",
       "      <td>296.00</td>\n",
       "      <td>15543</td>\n",
       "    </tr>\n",
       "    <tr>\n",
       "      <td>2</td>\n",
       "      <td>AAPL_2020_2020</td>\n",
       "      <td>2020-01-02 06:00:00</td>\n",
       "      <td>295.75</td>\n",
       "      <td>295.85</td>\n",
       "      <td>295.30</td>\n",
       "      <td>295.51</td>\n",
       "      <td>14890</td>\n",
       "    </tr>\n",
       "    <tr>\n",
       "      <td>3</td>\n",
       "      <td>AAPL_2020_2020</td>\n",
       "      <td>2020-01-02 07:00:00</td>\n",
       "      <td>295.50</td>\n",
       "      <td>296.18</td>\n",
       "      <td>295.13</td>\n",
       "      <td>296.10</td>\n",
       "      <td>134301</td>\n",
       "    </tr>\n",
       "    <tr>\n",
       "      <td>4</td>\n",
       "      <td>AAPL_2020_2020</td>\n",
       "      <td>2020-01-02 08:00:00</td>\n",
       "      <td>295.89</td>\n",
       "      <td>296.75</td>\n",
       "      <td>295.44</td>\n",
       "      <td>296.68</td>\n",
       "      <td>215866</td>\n",
       "    </tr>\n",
       "    <tr>\n",
       "      <td>...</td>\n",
       "      <td>...</td>\n",
       "      <td>...</td>\n",
       "      <td>...</td>\n",
       "      <td>...</td>\n",
       "      <td>...</td>\n",
       "      <td>...</td>\n",
       "      <td>...</td>\n",
       "    </tr>\n",
       "    <tr>\n",
       "      <td>4587</td>\n",
       "      <td>AMZN_2020_2020</td>\n",
       "      <td>2020-04-06 15:00:00</td>\n",
       "      <td>1978.95</td>\n",
       "      <td>1998.52</td>\n",
       "      <td>1975.00</td>\n",
       "      <td>1998.49</td>\n",
       "      <td>1513641</td>\n",
       "    </tr>\n",
       "    <tr>\n",
       "      <td>4588</td>\n",
       "      <td>AMZN_2020_2020</td>\n",
       "      <td>2020-04-06 16:00:00</td>\n",
       "      <td>1997.59</td>\n",
       "      <td>1997.59</td>\n",
       "      <td>1986.40</td>\n",
       "      <td>1987.99</td>\n",
       "      <td>134021</td>\n",
       "    </tr>\n",
       "    <tr>\n",
       "      <td>4589</td>\n",
       "      <td>AMZN_2020_2020</td>\n",
       "      <td>2020-04-06 17:00:00</td>\n",
       "      <td>1987.11</td>\n",
       "      <td>1987.47</td>\n",
       "      <td>1985.00</td>\n",
       "      <td>1986.00</td>\n",
       "      <td>5698</td>\n",
       "    </tr>\n",
       "    <tr>\n",
       "      <td>4590</td>\n",
       "      <td>AMZN_2020_2020</td>\n",
       "      <td>2020-04-06 18:00:00</td>\n",
       "      <td>1984.00</td>\n",
       "      <td>1987.00</td>\n",
       "      <td>1983.00</td>\n",
       "      <td>1983.00</td>\n",
       "      <td>4246</td>\n",
       "    </tr>\n",
       "    <tr>\n",
       "      <td>4591</td>\n",
       "      <td>AMZN_2020_2020</td>\n",
       "      <td>2020-04-06 19:00:00</td>\n",
       "      <td>1982.11</td>\n",
       "      <td>1990.00</td>\n",
       "      <td>1982.11</td>\n",
       "      <td>1990.00</td>\n",
       "      <td>4429</td>\n",
       "    </tr>\n",
       "  </tbody>\n",
       "</table>\n",
       "<p>4592 rows × 7 columns</p>\n",
       "</div>"
      ],
      "text/plain": [
       "                code                date     open     high      low    close   volume\n",
       "0     AAPL_2020_2020 2020-01-02 04:00:00   295.05   295.75   295.05   295.73    26138\n",
       "1     AAPL_2020_2020 2020-01-02 05:00:00   295.75   296.05   295.75   296.00    15543\n",
       "2     AAPL_2020_2020 2020-01-02 06:00:00   295.75   295.85   295.30   295.51    14890\n",
       "3     AAPL_2020_2020 2020-01-02 07:00:00   295.50   296.18   295.13   296.10   134301\n",
       "4     AAPL_2020_2020 2020-01-02 08:00:00   295.89   296.75   295.44   296.68   215866\n",
       "...              ...                 ...      ...      ...      ...      ...      ...\n",
       "4587  AMZN_2020_2020 2020-04-06 15:00:00  1978.95  1998.52  1975.00  1998.49  1513641\n",
       "4588  AMZN_2020_2020 2020-04-06 16:00:00  1997.59  1997.59  1986.40  1987.99   134021\n",
       "4589  AMZN_2020_2020 2020-04-06 17:00:00  1987.11  1987.47  1985.00  1986.00     5698\n",
       "4590  AMZN_2020_2020 2020-04-06 18:00:00  1984.00  1987.00  1983.00  1983.00     4246\n",
       "4591  AMZN_2020_2020 2020-04-06 19:00:00  1982.11  1990.00  1982.11  1990.00     4429\n",
       "\n",
       "[4592 rows x 7 columns]"
      ]
     },
     "execution_count": 44,
     "metadata": {},
     "output_type": "execute_result"
    }
   ],
   "source": [
    "data=pd.read_excel('processed_transformer_dir/AAPL_2020_2020-AMZN_2020_2020.xlsx')\n",
    "data"
   ]
  },
  {
   "cell_type": "code",
   "execution_count": 48,
   "metadata": {},
   "outputs": [
    {
     "name": "stdout",
     "output_type": "stream",
     "text": [
      "making dir transformer_results !\n",
      "solving xlsx file AAPL_2020_2020-AMZN_2020_2020.xlsx . . .\n",
      "saving data into transformer_results/AAPL_2020_2020-AMZN_2020_2020.xlsx successfully\n",
      "solving xlsx file GOOGL_2020_2020.xlsx . . .\n",
      "saving data into transformer_results/GOOGL_2020_2020.xlsx successfully\n"
     ]
    },
    {
     "name": "stderr",
     "output_type": "stream",
     "text": [
      "\n",
      "  0%|          | 0/2 [00:00<?, ?it/s]E:\\Pycharm\\Workspace\\ta-master\\ta\\trend.py:192: RuntimeWarning: invalid value encountered in double_scalars\n",
      "  dip[i] = 100 * (dip_mio[i]/trs[i])\n",
      "E:\\Pycharm\\Workspace\\ta-master\\ta\\trend.py:196: RuntimeWarning: invalid value encountered in double_scalars\n",
      "  din[i] = 100 * (din_mio[i]/trs[i])\n",
      "\n",
      " 50%|█████     | 1/2 [00:04<00:04,  4.28s/it]\n",
      "100%|██████████| 2/2 [00:06<00:00,  3.68s/it]\n"
     ]
    }
   ],
   "source": [
    "!python ../main.py \\\n",
    "--data_dir processed_transformer_dir\\\n",
    "--save_dir transformer_results/ \\\n",
    "--indicator all\n"
   ]
  }
 ],
 "metadata": {
  "kernelspec": {
   "display_name": "Python 3",
   "language": "python",
   "name": "python3"
  },
  "language_info": {
   "codemirror_mode": {
    "name": "ipython",
    "version": 3
   },
   "file_extension": ".py",
   "mimetype": "text/x-python",
   "name": "python",
   "nbconvert_exporter": "python",
   "pygments_lexer": "ipython3",
   "version": "3.6.4"
  },
  "latex_envs": {
   "LaTeX_envs_menu_present": true,
   "autoclose": false,
   "autocomplete": true,
   "bibliofile": "biblio.bib",
   "cite_by": "apalike",
   "current_citInitial": 1,
   "eqLabelWithNumbers": true,
   "eqNumInitial": 1,
   "hotkeys": {
    "equation": "Ctrl-E",
    "itemize": "Ctrl-I"
   },
   "labels_anchors": false,
   "latex_user_defs": false,
   "report_style_numbering": false,
   "user_envs_cfg": false
  }
 },
 "nbformat": 4,
 "nbformat_minor": 2
}
