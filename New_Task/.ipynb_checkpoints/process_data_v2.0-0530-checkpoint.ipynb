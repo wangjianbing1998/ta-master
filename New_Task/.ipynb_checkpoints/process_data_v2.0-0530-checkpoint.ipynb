{
 "cells": [
  {
   "cell_type": "markdown",
   "metadata": {},
   "source": [
    "# Import Packages"
   ]
  },
  {
   "cell_type": "code",
   "execution_count": 1,
   "metadata": {},
   "outputs": [
    {
     "name": "stderr",
     "output_type": "stream",
     "text": [
      "WARNING: better_exceptions will only inspect code from the command line\n",
      "         when using: `python -m better_exceptions'. Otherwise, only code\n",
      "         loaded from files will be inspected!\n",
      "WARNING: better_exceptions will only inspect code from the command line\n",
      "         when using: `python -m better_exceptions'. Otherwise, only code\n",
      "         loaded from files will be inspected!\n"
     ]
    }
   ],
   "source": [
    "import pandas as pd\n",
    "\n",
    "pd.set_option('expand_frame_repr', False)\n",
    "pd.set_option('display.max_rows', 20)\n",
    "pd.set_option('precision', 2)\n",
    "\n",
    "import os\n",
    "\n",
    "import outliner_remover"
   ]
  },
  {
   "cell_type": "code",
   "execution_count": null,
   "metadata": {},
   "outputs": [],
   "source": [
    "outliner_remover.test_outliner_remover({'year': 2020,\n",
    "                           'month': 3,\n",
    "                           'day': 24})"
   ]
  },
  {
   "cell_type": "markdown",
   "metadata": {},
   "source": [
    "##  Import neccessary module from `process_data.py` "
   ]
  },
  {
   "cell_type": "code",
   "execution_count": 95,
   "metadata": {},
   "outputs": [],
   "source": [
    "from process_data import get_one_column_data"
   ]
  },
  {
   "cell_type": "markdown",
   "metadata": {},
   "source": [
    "# Processing Data"
   ]
  },
  {
   "cell_type": "markdown",
   "metadata": {},
   "source": [
    "Time to process the data from seperate files  `Open`,`Low`,`High`,`Close`"
   ]
  },
  {
   "cell_type": "code",
   "execution_count": 96,
   "metadata": {},
   "outputs": [],
   "source": [
    "data_dir='test_data'  # the directory of input files"
   ]
  },
  {
   "cell_type": "code",
   "execution_count": 97,
   "metadata": {},
   "outputs": [
    {
     "name": "stdout",
     "output_type": "stream",
     "text": [
      "finished read test_open.xlsx\n",
      "finished read test_low.xlsx\n",
      "finished read test_high.xlsx\n",
      "finished read test_close.xlsx\n"
     ]
    }
   ],
   "source": [
    "open_data = get_one_column_data(f'{data_dir}/test_open.xlsx', 'open')\n",
    "low_data = get_one_column_data(f'{data_dir}/test_low.xlsx', 'low')\n",
    "high_data = get_one_column_data(f'{data_dir}/test_high.xlsx', 'high')\n",
    "close_data = get_one_column_data(f'{data_dir}/test_close.xlsx', 'close')"
   ]
  },
  {
   "cell_type": "markdown",
   "metadata": {},
   "source": [
    "Merge the processed data into `data`"
   ]
  },
  {
   "cell_type": "code",
   "execution_count": 98,
   "metadata": {},
   "outputs": [],
   "source": [
    "data = pd.merge(open_data, high_data, on=['code', 'date'])\n",
    "data = pd.merge(data, low_data, on=['code', 'date'])\n",
    "data = pd.merge(data, close_data, on=['code', 'date'])\n",
    "data = data[['code', 'date', 'open', 'high', 'low', 'close']]"
   ]
  },
  {
   "cell_type": "markdown",
   "metadata": {},
   "source": [
    "Save the `data` into `result_dir`"
   ]
  },
  {
   "cell_type": "code",
   "execution_count": 99,
   "metadata": {},
   "outputs": [],
   "source": [
    "result_dir='processed_data/data.csv'\n",
    "os.makedirs(os.path.dirname(result_dir), exist_ok=True)"
   ]
  },
  {
   "cell_type": "code",
   "execution_count": 100,
   "metadata": {},
   "outputs": [],
   "source": [
    "data.to_csv(f'{result_dir}', index=False)"
   ]
  },
  {
   "cell_type": "code",
   "execution_count": 102,
   "metadata": {},
   "outputs": [
    {
     "data": {
      "text/html": [
       "<div>\n",
       "<style scoped>\n",
       "    .dataframe tbody tr th:only-of-type {\n",
       "        vertical-align: middle;\n",
       "    }\n",
       "\n",
       "    .dataframe tbody tr th {\n",
       "        vertical-align: top;\n",
       "    }\n",
       "\n",
       "    .dataframe thead th {\n",
       "        text-align: right;\n",
       "    }\n",
       "</style>\n",
       "<table border=\"1\" class=\"dataframe\">\n",
       "  <thead>\n",
       "    <tr style=\"text-align: right;\">\n",
       "      <th></th>\n",
       "      <th>code</th>\n",
       "      <th>date</th>\n",
       "      <th>open</th>\n",
       "      <th>high</th>\n",
       "      <th>low</th>\n",
       "      <th>close</th>\n",
       "    </tr>\n",
       "  </thead>\n",
       "  <tbody>\n",
       "    <tr>\n",
       "      <td>0</td>\n",
       "      <td>0820143D</td>\n",
       "      <td>1995-01-01</td>\n",
       "      <td>NaN</td>\n",
       "      <td>NaN</td>\n",
       "      <td>NaN</td>\n",
       "      <td>NaN</td>\n",
       "    </tr>\n",
       "    <tr>\n",
       "      <td>1</td>\n",
       "      <td>0820143D</td>\n",
       "      <td>1995-01-02</td>\n",
       "      <td>NaN</td>\n",
       "      <td>NaN</td>\n",
       "      <td>NaN</td>\n",
       "      <td>NaN</td>\n",
       "    </tr>\n",
       "    <tr>\n",
       "      <td>2</td>\n",
       "      <td>0820143D</td>\n",
       "      <td>1995-01-03</td>\n",
       "      <td>25.19</td>\n",
       "      <td>25.42</td>\n",
       "      <td>24.64</td>\n",
       "      <td>25.08</td>\n",
       "    </tr>\n",
       "    <tr>\n",
       "      <td>3</td>\n",
       "      <td>0820143D</td>\n",
       "      <td>1995-01-04</td>\n",
       "      <td>25.08</td>\n",
       "      <td>25.08</td>\n",
       "      <td>24.86</td>\n",
       "      <td>24.86</td>\n",
       "    </tr>\n",
       "    <tr>\n",
       "      <td>4</td>\n",
       "      <td>0820143D</td>\n",
       "      <td>1995-01-05</td>\n",
       "      <td>24.97</td>\n",
       "      <td>25.53</td>\n",
       "      <td>24.97</td>\n",
       "      <td>25.31</td>\n",
       "    </tr>\n",
       "    <tr>\n",
       "      <td>5</td>\n",
       "      <td>0820143D</td>\n",
       "      <td>1995-01-06</td>\n",
       "      <td>25.42</td>\n",
       "      <td>26.30</td>\n",
       "      <td>25.31</td>\n",
       "      <td>26.08</td>\n",
       "    </tr>\n",
       "    <tr>\n",
       "      <td>6</td>\n",
       "      <td>0820143D</td>\n",
       "      <td>1995-01-07</td>\n",
       "      <td>NaN</td>\n",
       "      <td>NaN</td>\n",
       "      <td>NaN</td>\n",
       "      <td>NaN</td>\n",
       "    </tr>\n",
       "    <tr>\n",
       "      <td>7</td>\n",
       "      <td>0820143D</td>\n",
       "      <td>1995-01-08</td>\n",
       "      <td>NaN</td>\n",
       "      <td>NaN</td>\n",
       "      <td>NaN</td>\n",
       "      <td>NaN</td>\n",
       "    </tr>\n",
       "    <tr>\n",
       "      <td>8</td>\n",
       "      <td>0820143D</td>\n",
       "      <td>1995-01-09</td>\n",
       "      <td>25.97</td>\n",
       "      <td>26.19</td>\n",
       "      <td>25.31</td>\n",
       "      <td>25.42</td>\n",
       "    </tr>\n",
       "    <tr>\n",
       "      <td>9</td>\n",
       "      <td>0820143D</td>\n",
       "      <td>1995-01-10</td>\n",
       "      <td>26.64</td>\n",
       "      <td>26.64</td>\n",
       "      <td>26.08</td>\n",
       "      <td>26.19</td>\n",
       "    </tr>\n",
       "  </tbody>\n",
       "</table>\n",
       "</div>"
      ],
      "text/plain": [
       "       code       date   open   high    low  close\n",
       "0  0820143D 1995-01-01    NaN    NaN    NaN    NaN\n",
       "1  0820143D 1995-01-02    NaN    NaN    NaN    NaN\n",
       "2  0820143D 1995-01-03  25.19  25.42  24.64  25.08\n",
       "3  0820143D 1995-01-04  25.08  25.08  24.86  24.86\n",
       "4  0820143D 1995-01-05  24.97  25.53  24.97  25.31\n",
       "5  0820143D 1995-01-06  25.42  26.30  25.31  26.08\n",
       "6  0820143D 1995-01-07    NaN    NaN    NaN    NaN\n",
       "7  0820143D 1995-01-08    NaN    NaN    NaN    NaN\n",
       "8  0820143D 1995-01-09  25.97  26.19  25.31  25.42\n",
       "9  0820143D 1995-01-10  26.64  26.64  26.08  26.19"
      ]
     },
     "execution_count": 102,
     "metadata": {},
     "output_type": "execute_result"
    }
   ],
   "source": [
    "data.head(10)"
   ]
  },
  {
   "cell_type": "code",
   "execution_count": 103,
   "metadata": {},
   "outputs": [
    {
     "data": {
      "text/plain": [
       "('Processed code data:', ['0820143D', '1005050Q', '1051665D', 'XLNX'])"
      ]
     },
     "execution_count": 103,
     "metadata": {},
     "output_type": "execute_result"
    }
   ],
   "source": [
    "'Processed code data:',sorted(set(data['code'].to_list()))"
   ]
  },
  {
   "cell_type": "code",
   "execution_count": 104,
   "metadata": {},
   "outputs": [
    {
     "data": {
      "text/plain": [
       "('Date range:',\n",
       " Timestamp('1995-01-01 00:00:00'),\n",
       " Timestamp('2020-05-10 00:00:00'))"
      ]
     },
     "execution_count": 104,
     "metadata": {},
     "output_type": "execute_result"
    }
   ],
   "source": [
    "date_range=set(data['date'].to_list())\n",
    "'Date range:',min(date_range),max(date_range)"
   ]
  },
  {
   "cell_type": "code",
   "execution_count": 105,
   "metadata": {},
   "outputs": [
    {
     "data": {
      "text/plain": [
       "('Data columns',\n",
       " Index(['code', 'date', 'open', 'high', 'low', 'close'], dtype='object'))"
      ]
     },
     "execution_count": 105,
     "metadata": {},
     "output_type": "execute_result"
    }
   ],
   "source": [
    "'Data columns', data.columns"
   ]
  },
  {
   "cell_type": "markdown",
   "metadata": {},
   "source": [
    "# Get Indicator from Package `main.py`"
   ]
  },
  {
   "cell_type": "code",
   "execution_count": 106,
   "metadata": {},
   "outputs": [
    {
     "name": "stdout",
     "output_type": "stream",
     "text": [
      "usage: main.py [-h] -d DATA_DIR [-s SAVE_PATH]\n",
      "               [-i {all,trend,momentum,my,volatility,volume,other}]\n",
      "               [-lc LIMIT_CODE] [-cp COLUMN_PREFIX] [-cif CUSTOM_INDICATOR_FN]\n",
      "               [-cia CUSTOM_INDICATOR_ARGS] [-ci CUSTOM_INDICATOR]\n",
      "\n",
      "Trade Indicators\n",
      "\n",
      "optional arguments:\n",
      "  -h, --help            show this help message and exit\n",
      "  -d DATA_DIR, --data_dir DATA_DIR\n",
      "                        the direction for reading processed data.csv\n",
      "  -s SAVE_PATH, --save_path SAVE_PATH\n",
      "                        The result file path for saving\n",
      "  -i {all,trend,momentum,my,volatility,volume,other}, --indicator {all,trend,momentum,my,volatility,volume,other}\n",
      "                        Which indicator(s) would you want to add? Please\n",
      "                        select in\n",
      "                        [all,trend,momentum,my,volatility,volume,other]. Note\n",
      "                        that the columns [Open,High,Low,Close] must be\n",
      "                        contained in data\n",
      "  -lc LIMIT_CODE, --limit_code LIMIT_CODE\n",
      "                        limited code to solve, once specified, it will be\n",
      "                        calculated only in the result\n",
      "  -cp COLUMN_PREFIX, --column_prefix COLUMN_PREFIX\n",
      "                        the prefix column names inserted\n",
      "  -cif CUSTOM_INDICATOR_FN, --custom_indicator_fn CUSTOM_INDICATOR_FN\n",
      "                        the name of custom indicator inserted\n",
      "  -cia CUSTOM_INDICATOR_ARGS, --custom_indicator_args CUSTOM_INDICATOR_ARGS\n",
      "                        the name of custom indicator inserted\n",
      "  -ci CUSTOM_INDICATOR, --custom_indicator CUSTOM_INDICATOR\n",
      "                        the name and args of custom indicator inserted, equals\n",
      "                        to use the custom_indicator_fn and\n",
      "                        custom_indicator_args\n"
     ]
    }
   ],
   "source": [
    "!python ../main.py -h"
   ]
  },
  {
   "cell_type": "markdown",
   "metadata": {},
   "source": [
    "# Test\n",
    "Get the data from directory `process_data/` and save the code `XLNX`'s result on `momentum.rsi(close,n=14)` to `result/test_result.xlsx` \n",
    "\n",
    "Note that the result on `{all,trend,momentum,my,volatility,volume,other}` indicators can be caculated only when data must contain `OHLCV`"
   ]
  },
  {
   "cell_type": "code",
   "execution_count": 109,
   "metadata": {},
   "outputs": [
    {
     "name": "stdout",
     "output_type": "stream",
     "text": [
      "solving csv file data.csv . . .\n",
      "rsi(close,n=14)\n",
      "saving data into result/test_result.xlsx successfully\n"
     ]
    },
    {
     "name": "stderr",
     "output_type": "stream",
     "text": [
      "\n",
      "  0%|          | 0/1 [00:00<?, ?it/s]\n",
      "100%|██████████| 1/1 [00:01<00:00,  1.51s/it]\n"
     ]
    }
   ],
   "source": [
    "!python ../main.py --data_dir processed_data \\\n",
    "--save_path result/test_result.xlsx \\\n",
    "--custom_indicator_fn momentum.rsi \\\n",
    "--custom_indicator_args close,n=14 \\\n",
    "--limit_code XLNX"
   ]
  },
  {
   "cell_type": "code",
   "execution_count": 110,
   "metadata": {},
   "outputs": [
    {
     "data": {
      "text/html": [
       "<div>\n",
       "<style scoped>\n",
       "    .dataframe tbody tr th:only-of-type {\n",
       "        vertical-align: middle;\n",
       "    }\n",
       "\n",
       "    .dataframe tbody tr th {\n",
       "        vertical-align: top;\n",
       "    }\n",
       "\n",
       "    .dataframe thead th {\n",
       "        text-align: right;\n",
       "    }\n",
       "</style>\n",
       "<table border=\"1\" class=\"dataframe\">\n",
       "  <thead>\n",
       "    <tr style=\"text-align: right;\">\n",
       "      <th></th>\n",
       "      <th>code</th>\n",
       "      <th>date</th>\n",
       "      <th>open</th>\n",
       "      <th>high</th>\n",
       "      <th>low</th>\n",
       "      <th>close</th>\n",
       "      <th>rsi</th>\n",
       "    </tr>\n",
       "  </thead>\n",
       "  <tbody>\n",
       "    <tr>\n",
       "      <td>6373</td>\n",
       "      <td>XLNX</td>\n",
       "      <td>2020-04-27</td>\n",
       "      <td>90.30</td>\n",
       "      <td>91.38</td>\n",
       "      <td>88.45</td>\n",
       "      <td>88.81</td>\n",
       "      <td>57.55</td>\n",
       "    </tr>\n",
       "    <tr>\n",
       "      <td>6374</td>\n",
       "      <td>XLNX</td>\n",
       "      <td>2020-04-28</td>\n",
       "      <td>89.99</td>\n",
       "      <td>90.46</td>\n",
       "      <td>85.84</td>\n",
       "      <td>85.89</td>\n",
       "      <td>48.21</td>\n",
       "    </tr>\n",
       "    <tr>\n",
       "      <td>6375</td>\n",
       "      <td>XLNX</td>\n",
       "      <td>2020-04-29</td>\n",
       "      <td>87.79</td>\n",
       "      <td>92.00</td>\n",
       "      <td>87.00</td>\n",
       "      <td>91.70</td>\n",
       "      <td>62.26</td>\n",
       "    </tr>\n",
       "    <tr>\n",
       "      <td>6376</td>\n",
       "      <td>XLNX</td>\n",
       "      <td>2020-04-30</td>\n",
       "      <td>91.22</td>\n",
       "      <td>91.33</td>\n",
       "      <td>87.03</td>\n",
       "      <td>87.40</td>\n",
       "      <td>50.55</td>\n",
       "    </tr>\n",
       "    <tr>\n",
       "      <td>6377</td>\n",
       "      <td>XLNX</td>\n",
       "      <td>2020-05-01</td>\n",
       "      <td>86.25</td>\n",
       "      <td>86.38</td>\n",
       "      <td>82.87</td>\n",
       "      <td>82.99</td>\n",
       "      <td>41.35</td>\n",
       "    </tr>\n",
       "    <tr>\n",
       "      <td>6378</td>\n",
       "      <td>XLNX</td>\n",
       "      <td>2020-05-04</td>\n",
       "      <td>83.31</td>\n",
       "      <td>83.33</td>\n",
       "      <td>81.66</td>\n",
       "      <td>83.24</td>\n",
       "      <td>42.04</td>\n",
       "    </tr>\n",
       "    <tr>\n",
       "      <td>6379</td>\n",
       "      <td>XLNX</td>\n",
       "      <td>2020-05-05</td>\n",
       "      <td>83.98</td>\n",
       "      <td>85.51</td>\n",
       "      <td>82.97</td>\n",
       "      <td>83.50</td>\n",
       "      <td>42.85</td>\n",
       "    </tr>\n",
       "    <tr>\n",
       "      <td>6380</td>\n",
       "      <td>XLNX</td>\n",
       "      <td>2020-05-06</td>\n",
       "      <td>84.32</td>\n",
       "      <td>87.38</td>\n",
       "      <td>84.32</td>\n",
       "      <td>85.24</td>\n",
       "      <td>48.40</td>\n",
       "    </tr>\n",
       "    <tr>\n",
       "      <td>6381</td>\n",
       "      <td>XLNX</td>\n",
       "      <td>2020-05-07</td>\n",
       "      <td>86.36</td>\n",
       "      <td>87.20</td>\n",
       "      <td>84.27</td>\n",
       "      <td>84.43</td>\n",
       "      <td>46.00</td>\n",
       "    </tr>\n",
       "    <tr>\n",
       "      <td>6382</td>\n",
       "      <td>XLNX</td>\n",
       "      <td>2020-05-08</td>\n",
       "      <td>85.30</td>\n",
       "      <td>86.93</td>\n",
       "      <td>85.21</td>\n",
       "      <td>86.86</td>\n",
       "      <td>53.91</td>\n",
       "    </tr>\n",
       "  </tbody>\n",
       "</table>\n",
       "</div>"
      ],
      "text/plain": [
       "      code        date   open   high    low  close    rsi\n",
       "6373  XLNX  2020-04-27  90.30  91.38  88.45  88.81  57.55\n",
       "6374  XLNX  2020-04-28  89.99  90.46  85.84  85.89  48.21\n",
       "6375  XLNX  2020-04-29  87.79  92.00  87.00  91.70  62.26\n",
       "6376  XLNX  2020-04-30  91.22  91.33  87.03  87.40  50.55\n",
       "6377  XLNX  2020-05-01  86.25  86.38  82.87  82.99  41.35\n",
       "6378  XLNX  2020-05-04  83.31  83.33  81.66  83.24  42.04\n",
       "6379  XLNX  2020-05-05  83.98  85.51  82.97  83.50  42.85\n",
       "6380  XLNX  2020-05-06  84.32  87.38  84.32  85.24  48.40\n",
       "6381  XLNX  2020-05-07  86.36  87.20  84.27  84.43  46.00\n",
       "6382  XLNX  2020-05-08  85.30  86.93  85.21  86.86  53.91"
      ]
     },
     "execution_count": 110,
     "metadata": {},
     "output_type": "execute_result"
    }
   ],
   "source": [
    "pd.read_excel('result/test_result.xlsx').tail(10)"
   ]
  },
  {
   "cell_type": "code",
   "execution_count": null,
   "metadata": {},
   "outputs": [],
   "source": []
  }
 ],
 "metadata": {
  "kernelspec": {
   "display_name": "Python 3",
   "language": "python",
   "name": "python3"
  },
  "language_info": {
   "codemirror_mode": {
    "name": "ipython",
    "version": 3
   },
   "file_extension": ".py",
   "mimetype": "text/x-python",
   "name": "python",
   "nbconvert_exporter": "python",
   "pygments_lexer": "ipython3",
   "version": "3.6.4"
  },
  "latex_envs": {
   "LaTeX_envs_menu_present": true,
   "autoclose": false,
   "autocomplete": true,
   "bibliofile": "biblio.bib",
   "cite_by": "apalike",
   "current_citInitial": 1,
   "eqLabelWithNumbers": true,
   "eqNumInitial": 1,
   "hotkeys": {
    "equation": "Ctrl-E",
    "itemize": "Ctrl-I"
   },
   "labels_anchors": false,
   "latex_user_defs": false,
   "report_style_numbering": false,
   "user_envs_cfg": false
  }
 },
 "nbformat": 4,
 "nbformat_minor": 2
}
